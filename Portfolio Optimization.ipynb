{
 "cells": [
  {
   "cell_type": "code",
   "execution_count": 1,
   "id": "8d46f578-3f1c-4a78-a190-5ca1c830113a",
   "metadata": {},
   "outputs": [],
   "source": [
    "import numpy as np\n",
    "import pandas as pd\n",
    "import matplotlib.pyplot as plt\n",
    "import seaborn as sns\n",
    "sns.set()"
   ]
  },
  {
   "cell_type": "code",
   "execution_count": 2,
   "id": "7f7ac66f-7337-444b-9923-030613cdf6c0",
   "metadata": {},
   "outputs": [
    {
     "data": {
      "text/plain": [
       "['/Users/chrislernunes/Desktop/Portfolio/RELIANCE.NS.csv',\n",
       " '/Users/chrislernunes/Desktop/Portfolio/LT.NS.csv',\n",
       " '/Users/chrislernunes/Desktop/Portfolio/HDFCBANK.NS.csv',\n",
       " '/Users/chrislernunes/Desktop/Portfolio/ITC.NS.csv']"
      ]
     },
     "execution_count": 2,
     "metadata": {},
     "output_type": "execute_result"
    }
   ],
   "source": [
    "directory = '/Users/chrislernunes/Desktop/Portfolio/'\n",
    "stocks = ['RELIANCE.NS.csv', 'LT.NS.csv', 'HDFCBANK.NS.csv', 'ITC.NS.csv']\n",
    "stocks = [directory + s for s in stocks]\n",
    "stocks"
   ]
  },
  {
   "cell_type": "code",
   "execution_count": 3,
   "id": "a808c70c-3216-425f-a93d-b941262ca552",
   "metadata": {},
   "outputs": [],
   "source": [
    "dfs = [pd.read_csv(s)[['Date', 'Close']] for s in stocks]"
   ]
  },
  {
   "cell_type": "code",
   "execution_count": 4,
   "id": "ce1f6180-8581-41ea-9b38-ec13e5604a52",
   "metadata": {},
   "outputs": [
    {
     "name": "stderr",
     "output_type": "stream",
     "text": [
      "/var/folders/pp/7q61p8_s0jj2d0k60yg5k5nh0000gn/T/ipykernel_82267/4164625882.py:2: FutureWarning: Passing 'suffixes' which cause duplicate columns {'Close_x'} in the result is deprecated and will raise a MergeError in a future version.\n",
      "  data = reduce(lambda left,right: pd.merge(left,right,on='Date'), dfs).iloc[:, 1:]\n"
     ]
    },
    {
     "data": {
      "text/html": [
       "<div>\n",
       "<style scoped>\n",
       "    .dataframe tbody tr th:only-of-type {\n",
       "        vertical-align: middle;\n",
       "    }\n",
       "\n",
       "    .dataframe tbody tr th {\n",
       "        vertical-align: top;\n",
       "    }\n",
       "\n",
       "    .dataframe thead th {\n",
       "        text-align: right;\n",
       "    }\n",
       "</style>\n",
       "<table border=\"1\" class=\"dataframe\">\n",
       "  <thead>\n",
       "    <tr style=\"text-align: right;\">\n",
       "      <th></th>\n",
       "      <th>Close_x</th>\n",
       "      <th>Close_y</th>\n",
       "      <th>Close_x</th>\n",
       "      <th>Close_y</th>\n",
       "    </tr>\n",
       "  </thead>\n",
       "  <tbody>\n",
       "    <tr>\n",
       "      <th>0</th>\n",
       "      <td>888.478088</td>\n",
       "      <td>1309.349976</td>\n",
       "      <td>929.450012</td>\n",
       "      <td>259.049988</td>\n",
       "    </tr>\n",
       "    <tr>\n",
       "      <th>1</th>\n",
       "      <td>899.622498</td>\n",
       "      <td>1296.250000</td>\n",
       "      <td>933.875000</td>\n",
       "      <td>258.299988</td>\n",
       "    </tr>\n",
       "    <tr>\n",
       "      <th>2</th>\n",
       "      <td>885.506287</td>\n",
       "      <td>1267.900024</td>\n",
       "      <td>920.775024</td>\n",
       "      <td>256.000000</td>\n",
       "    </tr>\n",
       "    <tr>\n",
       "      <th>3</th>\n",
       "      <td>892.638672</td>\n",
       "      <td>1297.400024</td>\n",
       "      <td>946.724976</td>\n",
       "      <td>258.100006</td>\n",
       "    </tr>\n",
       "    <tr>\n",
       "      <th>4</th>\n",
       "      <td>891.350891</td>\n",
       "      <td>1307.550049</td>\n",
       "      <td>946.299988</td>\n",
       "      <td>258.899994</td>\n",
       "    </tr>\n",
       "  </tbody>\n",
       "</table>\n",
       "</div>"
      ],
      "text/plain": [
       "      Close_x      Close_y     Close_x     Close_y\n",
       "0  888.478088  1309.349976  929.450012  259.049988\n",
       "1  899.622498  1296.250000  933.875000  258.299988\n",
       "2  885.506287  1267.900024  920.775024  256.000000\n",
       "3  892.638672  1297.400024  946.724976  258.100006\n",
       "4  891.350891  1307.550049  946.299988  258.899994"
      ]
     },
     "execution_count": 4,
     "metadata": {},
     "output_type": "execute_result"
    }
   ],
   "source": [
    "from functools import reduce\n",
    "data = reduce(lambda left,right: pd.merge(left,right,on='Date'), dfs).iloc[:, 1:]\n",
    "data.head()"
   ]
  },
  {
   "cell_type": "code",
   "execution_count": 5,
   "id": "afd15d74-9098-4aa6-9bd2-8671d139f170",
   "metadata": {},
   "outputs": [],
   "source": [
    "returns = data.pct_change()\n",
    "mean_daily_returns = returns.mean()\n",
    "cov_matrix = returns.cov()"
   ]
  },
  {
   "cell_type": "code",
   "execution_count": 6,
   "id": "e6287173-3ddb-43ff-808a-9a10c011eb92",
   "metadata": {},
   "outputs": [
    {
     "data": {
      "text/html": [
       "<div>\n",
       "<style scoped>\n",
       "    .dataframe tbody tr th:only-of-type {\n",
       "        vertical-align: middle;\n",
       "    }\n",
       "\n",
       "    .dataframe tbody tr th {\n",
       "        vertical-align: top;\n",
       "    }\n",
       "\n",
       "    .dataframe thead th {\n",
       "        text-align: right;\n",
       "    }\n",
       "</style>\n",
       "<table border=\"1\" class=\"dataframe\">\n",
       "  <thead>\n",
       "    <tr style=\"text-align: right;\">\n",
       "      <th></th>\n",
       "      <th>Close_x</th>\n",
       "      <th>Close_y</th>\n",
       "      <th>Close_x</th>\n",
       "      <th>Close_y</th>\n",
       "    </tr>\n",
       "  </thead>\n",
       "  <tbody>\n",
       "    <tr>\n",
       "      <th>Close_x</th>\n",
       "      <td>0.000397</td>\n",
       "      <td>0.000131</td>\n",
       "      <td>0.000140</td>\n",
       "      <td>0.000092</td>\n",
       "    </tr>\n",
       "    <tr>\n",
       "      <th>Close_y</th>\n",
       "      <td>0.000131</td>\n",
       "      <td>0.000322</td>\n",
       "      <td>0.000159</td>\n",
       "      <td>0.000114</td>\n",
       "    </tr>\n",
       "    <tr>\n",
       "      <th>Close_x</th>\n",
       "      <td>0.000140</td>\n",
       "      <td>0.000159</td>\n",
       "      <td>0.000288</td>\n",
       "      <td>0.000092</td>\n",
       "    </tr>\n",
       "    <tr>\n",
       "      <th>Close_y</th>\n",
       "      <td>0.000092</td>\n",
       "      <td>0.000114</td>\n",
       "      <td>0.000092</td>\n",
       "      <td>0.000286</td>\n",
       "    </tr>\n",
       "  </tbody>\n",
       "</table>\n",
       "</div>"
      ],
      "text/plain": [
       "          Close_x   Close_y   Close_x   Close_y\n",
       "Close_x  0.000397  0.000131  0.000140  0.000092\n",
       "Close_y  0.000131  0.000322  0.000159  0.000114\n",
       "Close_x  0.000140  0.000159  0.000288  0.000092\n",
       "Close_y  0.000092  0.000114  0.000092  0.000286"
      ]
     },
     "execution_count": 6,
     "metadata": {},
     "output_type": "execute_result"
    }
   ],
   "source": [
    "cov_matrix"
   ]
  },
  {
   "cell_type": "code",
   "execution_count": 7,
   "id": "fcb19629-f7d8-4313-aeaf-b8ac609c2e55",
   "metadata": {},
   "outputs": [],
   "source": [
    "num_portfolios = 2500\n",
    "results = np.zeros((3,num_portfolios))"
   ]
  },
  {
   "cell_type": "code",
   "execution_count": 8,
   "id": "1f3261cc-e692-4402-9f41-fc75fd21488c",
   "metadata": {},
   "outputs": [],
   "source": [
    "for i in range(num_portfolios):\n",
    "    weights = np.random.random(cov_matrix.shape[0])\n",
    "    weights /= np.sum(weights)\n",
    "    portfolio_return = np.sum(mean_daily_returns * weights) * 252\n",
    "    portfolio_std_dev = np.sqrt(np.dot(weights.T,np.dot(cov_matrix, weights))) * np.sqrt(252)\n",
    "    results[0,i] = portfolio_return\n",
    "    results[1,i] = portfolio_std_dev\n",
    "    results[2,i] = results[0,i] / results[1,i]"
   ]
  },
  {
   "cell_type": "code",
   "execution_count": 9,
   "id": "4d69c29f-a566-4869-988a-d9f9e14ee445",
   "metadata": {},
   "outputs": [
    {
     "name": "stdout",
     "output_type": "stream",
     "text": [
      "0.18126786572361459\n"
     ]
    }
   ],
   "source": [
    "print(portfolio_return)"
   ]
  },
  {
   "cell_type": "code",
   "execution_count": 10,
   "id": "b3cc92c1-5389-4aad-a71c-2a6b5e807117",
   "metadata": {},
   "outputs": [
    {
     "name": "stdout",
     "output_type": "stream",
     "text": [
      "0.22423430215704238\n"
     ]
    }
   ],
   "source": [
    "print(portfolio_std_dev)"
   ]
  },
  {
   "cell_type": "code",
   "execution_count": 11,
   "id": "b201c8a6-a570-460d-981e-ade0083dac43",
   "metadata": {},
   "outputs": [],
   "source": [
    "results_frame = pd.DataFrame(results.T,columns=['ret','stdev','sharpe'])"
   ]
  },
  {
   "cell_type": "code",
   "execution_count": 12,
   "id": "ac261488-6e19-4926-8913-88039f41c35c",
   "metadata": {},
   "outputs": [
    {
     "data": {
      "image/png": "[encoded data removed]",
      "text/plain": [
       "<Figure size 504x360 with 2 Axes>"
      ]
     },
     "metadata": {
      "needs_background": "light"
     },
     "output_type": "display_data"
    }
   ],
   "source": [
    "plt.figure(figsize = (7, 5))\n",
    "plt.scatter(results_frame.stdev,results_frame.ret,c=results_frame.sharpe,cmap='RdYlBu')\n",
    "plt.colorbar()\n",
    "plt.xlabel('volatility')\n",
    "plt.ylabel('returns')\n",
    "plt.show()"
   ]
  },
  {
   "cell_type": "code",
   "execution_count": null,
   "id": "00382897-e39b-4e5e-83b8-ede105901d80",
   "metadata": {},
   "outputs": [],
   "source": []
  }
 ],
 "metadata": {
  "kernelspec": {
   "display_name": "Python 3 (ipykernel)",
   "language": "python",
   "name": "python3"
  },
  "language_info": {
   "codemirror_mode": {
    "name": "ipython",
    "version": 3
   },
   "file_extension": ".py",
   "mimetype": "text/x-python",
   "name": "python",
   "nbconvert_exporter": "python",
   "pygments_lexer": "ipython3",
   "version": "3.9.7"
  }
 },
 "nbformat": 4,
 "nbformat_minor": 5
}
