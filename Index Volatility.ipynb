import yfinance as yf
import pandas as pd
import matplotlib.pyplot as plt

# Function to calculate volatility
def calculate_volatility(ticker, start_date, end_date):
    stock_data = yf.download(ticker, start=start_date, end=end_date)
    stock_data['Daily_Return'] = stock_data['Adj Close'].pct_change()
    volatility = stock_data['Daily_Return'].std()

    return volatility

def plot_volatility_over_time(ticker, start_date, end_date):
    stock_data = yf.download(ticker, start=start_date, end=end_date)
    stock_data['Daily_Return'] = stock_data['Adj Close'].pct_change()
    stock_data['Volatility'] = stock_data['Daily_Return'].rolling(window=5).std()
    stock_data['Avg_Volatility_30'] = stock_data['Volatility'].mean()
    stock_data['Above_Avg'] = stock_data['Volatility'] > stock_data['Avg_Volatility_30']
    
    plt.figure(figsize=(10, 6))
    plt.plot(stock_data.index, stock_data['Volatility'], label='30-Day Volatility')
    plt.plot(stock_data.index, stock_data['Avg_Volatility_30'], label='30-Day Avg Volatility', linestyle='--', color='red')
    plt.scatter(stock_data.index[stock_data['Above_Avg']], stock_data['Volatility'][stock_data['Above_Avg']], color='red', label='Above Avg Volatility')
    plt.title(f'Volatility Over Time for {ticker}')
    plt.xlabel('Date')
    plt.ylabel('Volatility')
    plt.legend()
    plt.show()

ticker_symbol = '^NSEI'
start_date = '2023-01-01'
end_date = '2023-11-01'
plot_volatility_over_time(ticker_symbol, start_date, end_date)
