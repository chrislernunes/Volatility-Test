{
 "cells": [
  {
   "cell_type": "code",
   "execution_count": 1,
   "id": "4bc63061-09f1-4deb-9089-dfebf6992b9b",
   "metadata": {},
   "outputs": [],
   "source": [
    "import numpy as np\n",
    "import pandas as pd\n",
    "import matplotlib.pyplot as plt\n",
    "import seaborn as sns\n",
    "import yfinance as yf\n",
    "from scipy.stats import norm\n",
    "from py_vollib.black_scholes.implied_volatility import implied_volatility"
   ]
  },
  {
   "cell_type": "code",
   "execution_count": 2,
   "id": "d7445b55-9b70-449d-8769-15540a2d3a10",
   "metadata": {},
   "outputs": [],
   "source": [
    "ticker = 'TSLA'\n",
    "expiry = '2023-04-06'"
   ]
  },
  {
   "cell_type": "code",
   "execution_count": 3,
   "id": "d92e16b4-87e7-4f85-a99a-f67f275ed6d9",
   "metadata": {},
   "outputs": [],
   "source": [
    "option_chain = yf.Ticker(ticker).option_chain(expiry)\n",
    "calls = option_chain.calls\n",
    "puts = option_chain.puts"
   ]
  },
  {
   "cell_type": "code",
   "execution_count": 4,
   "id": "15438512-70aa-4b42-8d01-51c01d6b6f6a",
   "metadata": {},
   "outputs": [],
   "source": [
    "# Define the Black-Scholes formula for a call option\n",
    "def bs_call(S, K, r, t, sigma):\n",
    "    d1 = (np.log(S/K) + (r + 0.5*sigma**2)*t) / (sigma*np.sqrt(t))\n",
    "    d2 = d1 - sigma*np.sqrt(t)\n",
    "    return S*norm.cdf(d1) - K*np.exp(-r*t)*norm.cdf(d2)\n",
    "\n",
    "# Define the Black-Scholes formula for a put option\n",
    "def bs_put(S, K, r, t, sigma):\n",
    "    d1 = (np.log(S/K) + (r + 0.5*sigma**2)*t) / (sigma*np.sqrt(t))\n",
    "    d2 = d1 - sigma*np.sqrt(t)\n",
    "    return K*np.exp(-r*t)*norm.cdf(-d2) - S*norm.cdf(-d1)"
   ]
  },
  {
   "cell_type": "code",
   "execution_count": 5,
   "id": "81110a98-af43-435f-99ab-9502fc51c6e5",
   "metadata": {},
   "outputs": [
    {
     "name": "stdout",
     "output_type": "stream",
     "text": [
      "Calls:\n",
      "         contractSymbol             lastTradeDate  strike  lastPrice     bid  \\\n",
      "0   TSLA230406C00030000 2023-03-15 17:56:08+00:00    30.0     148.00  149.85   \n",
      "1   TSLA230406C00050000 2023-03-03 16:23:30+00:00    50.0     147.16  129.90   \n",
      "2   TSLA230406C00080000 2023-03-16 16:46:51+00:00    80.0     104.71  100.05   \n",
      "3   TSLA230406C00095000 2023-03-17 13:33:20+00:00    95.0      89.90   85.15   \n",
      "4   TSLA230406C00100000 2023-03-17 19:55:12+00:00   100.0      80.50   80.15   \n",
      "..                  ...                       ...     ...        ...     ...   \n",
      "63  TSLA230406C00320000 2023-03-17 19:26:44+00:00   320.0       0.03    0.02   \n",
      "64  TSLA230406C00330000 2023-03-16 17:55:12+00:00   330.0       0.03    0.02   \n",
      "65  TSLA230406C00340000 2023-03-17 19:31:46+00:00   340.0       0.02    0.02   \n",
      "66  TSLA230406C00350000 2023-03-16 19:39:35+00:00   350.0       0.02    0.01   \n",
      "67  TSLA230406C00360000 2023-03-17 13:30:09+00:00   360.0       0.03    0.01   \n",
      "\n",
      "       ask  change  percentChange  volume  openInterest  impliedVolatility  \\\n",
      "0   150.45    0.00       0.000000       8             2           2.656253   \n",
      "1   130.50    0.00       0.000000       2             2           2.171880   \n",
      "2   100.60    0.00       0.000000       1             1           1.597658   \n",
      "3    85.70    9.00      11.124845       2             2           1.364261   \n",
      "4    80.70   -1.00      -1.226994      17            46           1.265629   \n",
      "..     ...     ...            ...     ...           ...                ...   \n",
      "63    0.04   -0.05     -62.500000       5           193           0.882814   \n",
      "64    0.04    0.00       0.000000       1            32           0.921876   \n",
      "65    0.07   -0.02     -50.000000      11            62           0.998047   \n",
      "66    0.03    0.00       0.000000       6            85           0.968750   \n",
      "67    0.03    0.02     200.000000       1           280           1.000005   \n",
      "\n",
      "    inTheMoney contractSize currency  \n",
      "0         True      REGULAR      USD  \n",
      "1         True      REGULAR      USD  \n",
      "2         True      REGULAR      USD  \n",
      "3         True      REGULAR      USD  \n",
      "4         True      REGULAR      USD  \n",
      "..         ...          ...      ...  \n",
      "63       False      REGULAR      USD  \n",
      "64       False      REGULAR      USD  \n",
      "65       False      REGULAR      USD  \n",
      "66       False      REGULAR      USD  \n",
      "67       False      REGULAR      USD  \n",
      "\n",
      "[68 rows x 14 columns]\n",
      "\n",
      "\n",
      "Puts:\n",
      "         contractSymbol             lastTradeDate  strike  lastPrice    bid  \\\n",
      "0   TSLA230406P00020000 2023-03-10 15:14:22+00:00    20.0       0.01    0.0   \n",
      "1   TSLA230406P00040000 2023-03-10 17:02:57+00:00    40.0       0.01    0.0   \n",
      "2   TSLA230406P00050000 2023-03-17 18:18:53+00:00    50.0       0.01    0.0   \n",
      "3   TSLA230406P00060000 2023-03-16 15:59:08+00:00    60.0       0.01    0.0   \n",
      "4   TSLA230406P00070000 2023-03-17 13:59:29+00:00    70.0       0.03    0.0   \n",
      "..                  ...                       ...     ...        ...    ...   \n",
      "61  TSLA230406P00280000 2023-02-23 19:14:56+00:00   280.0      79.05   99.5   \n",
      "62  TSLA230406P00285000 2023-03-01 15:09:45+00:00   285.0      86.50  104.5   \n",
      "63  TSLA230406P00300000 2023-03-17 13:33:37+00:00   300.0     115.00  119.5   \n",
      "64  TSLA230406P00310000 2023-02-27 16:38:54+00:00   310.0     105.27  129.5   \n",
      "65  TSLA230406P00360000 2023-03-16 17:50:00+00:00   360.0     175.90  179.5   \n",
      "\n",
      "       ask  change  percentChange  volume  openInterest  impliedVolatility  \\\n",
      "0     0.03    0.00       0.000000     1.0             2           3.187502   \n",
      "1     0.04    0.00       0.000000    10.0            11           2.250004   \n",
      "2     0.04    0.00       0.000000     7.0           488           1.921875   \n",
      "3     0.02    0.00       0.000000    20.0           113           1.562502   \n",
      "4     0.04    0.01      50.000000    15.0           762           1.437503   \n",
      "..     ...     ...            ...     ...           ...                ...   \n",
      "61  100.40    0.00       0.000000     NaN             0           0.775393   \n",
      "62  105.40    0.00       0.000000     NaN             0           0.802736   \n",
      "63  120.40   -5.50      -4.564315     1.0             0           0.878907   \n",
      "64  130.50    0.00       0.000000     NaN             0           0.980469   \n",
      "65  180.40    0.00       0.000000     2.0             0           1.144536   \n",
      "\n",
      "    inTheMoney contractSize currency  \n",
      "0        False      REGULAR      USD  \n",
      "1        False      REGULAR      USD  \n",
      "2        False      REGULAR      USD  \n",
      "3        False      REGULAR      USD  \n",
      "4        False      REGULAR      USD  \n",
      "..         ...          ...      ...  \n",
      "61        True      REGULAR      USD  \n",
      "62        True      REGULAR      USD  \n",
      "63        True      REGULAR      USD  \n",
      "64        True      REGULAR      USD  \n",
      "65        True      REGULAR      USD  \n",
      "\n",
      "[66 rows x 14 columns]\n"
     ]
    }
   ],
   "source": [
    "# Print the resulting dataframes with implied volatility columns\n",
    "print('Calls:')\n",
    "print(calls)\n",
    "print('\\n')\n",
    "print('Puts:')\n",
    "print(puts)"
   ]
  },
  {
   "cell_type": "code",
   "execution_count": 6,
   "id": "1229dd79-40d6-4291-ad56-9e8030c92daa",
   "metadata": {},
   "outputs": [
    {
     "data": {
      "image/png": "[encoded data removed]",
      "text/plain": [
       "<Figure size 864x576 with 1 Axes>"
      ]
     },
     "metadata": {
      "needs_background": "light"
     },
     "output_type": "display_data"
    }
   ],
   "source": [
    "fig = plt.figure(figsize=(12, 8))\n",
    "plt.plot(calls['strike'], calls['impliedVolatility'], 'bo', label='Call impliedVolatility')\n",
    "plt.plot(puts['strike'], puts['impliedVolatility'], 'ro', label='Put impliedVolatility')\n",
    "plt.xlabel('Strike Price')\n",
    "plt.ylabel('Implied Volatility')\n",
    "plt.title('Volatility Skew for '+ticker+' Options')\n",
    "plt.legend()\n",
    "plt.show()"
   ]
  }
 ],
 "metadata": {
  "kernelspec": {
   "display_name": "Python 3 (ipykernel)",
   "language": "python",
   "name": "python3"
  },
  "language_info": {
   "codemirror_mode": {
    "name": "ipython",
    "version": 3
   },
   "file_extension": ".py",
   "mimetype": "text/x-python",
   "name": "python",
   "nbconvert_exporter": "python",
   "pygments_lexer": "ipython3",
   "version": "3.9.7"
  }
 },
 "nbformat": 4,
 "nbformat_minor": 5
}
